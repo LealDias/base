{
    "cells": [
        {
            "cell_type": "markdown",
            "metadata": {},
            "source": [
                "# Adansons Base MNIST Tutorial"
            ]
        },
        {
            "cell_type": "markdown",
            "metadata": {},
            "source": [
                "In this tutorial, we will learn some basic features of Adansons Base as follows:\n",
                "- Creating new project\n",
                "- Importing dataset and metadeta to link the information\n",
                "- Incorporating with existing libraries (e.g. PyTorch)\n",
                "\n",
                "After the completation of this turorial, you should be able to import dataset and metadeta to your Adansons Base project, and effeciently use them in your Machine Learning project."
            ]
        },
        {
            "cell_type": "markdown",
            "metadata": {},
            "source": [
                "If you have not get access key for base, please register from here for free  \n",
                "Invitation Form: https://share.hsforms.com/1KG8Hp2kwSjC6fjVwwlklZA8moen"
            ]
        },
        {
            "cell_type": "markdown",
            "metadata": {},
            "source": [
                "## Step 0 : Install Adansons Base & Prepare sample dataset"
            ]
        },
        {
            "cell_type": "markdown",
            "metadata": {},
            "source": [
                "First, install Adansons Base via pip command : "
            ]
        },
        {
            "cell_type": "code",
            "execution_count": null,
            "metadata": {},
            "outputs": [],
            "source": [
                "!pip install git+https://github.com/adansons/base"
            ]
        },
        {
            "cell_type": "markdown",
            "metadata": {},
            "source": [
                "We will use MNIST dataset in this tutorial, so download the dataset and install dependencies."
            ]
        },
        {
            "cell_type": "code",
            "execution_count": null,
            "metadata": {},
            "outputs": [],
            "source": [
                "!pip install pypng"
            ]
        },
        {
            "cell_type": "code",
            "execution_count": 1,
            "metadata": {},
            "outputs": [],
            "source": [
                "!curl -sSL https://raw.githubusercontent.com/adansons/base/main/download_mnist.py > download_mnist.py"
            ]
        },
        {
            "cell_type": "code",
            "execution_count": 2,
            "metadata": {},
            "outputs": [],
            "source": [
                "!python3 ./download_mnist.py ~/dataset/mnist"
            ]
        },
        {
            "cell_type": "markdown",
            "metadata": {},
            "source": [
                "Each MNIST image is stored under the folder of its label name (e.g. 0), and named {file_index}.png as below:  \n",
                "(if you not have `tree` command, install it via `brew install tree`)"
            ]
        },
        {
            "cell_type": "code",
            "execution_count": 3,
            "metadata": {},
            "outputs": [
                {
                    "name": "stdout",
                    "output_type": "stream",
                    "text": [
                        "\u001b[01;34m/Users/xxx/dataset/mnist\u001b[0m\n",
                        "├── \u001b[01;34mtest\u001b[0m\n",
                        "│   ├── \u001b[01;34m0\u001b[0m\n",
                        "│   ├── \u001b[01;34m1\u001b[0m\n",
                        "│   ├── \u001b[01;34m2\u001b[0m\n",
                        "│   ├── \u001b[01;34m3\u001b[0m\n",
                        "│   ├── \u001b[01;34m4\u001b[0m\n",
                        "│   ├── \u001b[01;34m5\u001b[0m\n",
                        "│   ├── \u001b[01;34m6\u001b[0m\n",
                        "│   ├── \u001b[01;34m7\u001b[0m\n",
                        "│   ├── \u001b[01;34m8\u001b[0m\n",
                        "│   └── \u001b[01;34m9\u001b[0m\n",
                        "└── \u001b[01;34mtrain\u001b[0m\n",
                        "    ├── \u001b[01;34m0\u001b[0m\n",
                        "    ├── \u001b[01;34m1\u001b[0m\n",
                        "    ├── \u001b[01;34m2\u001b[0m\n",
                        "    ├── \u001b[01;34m3\u001b[0m\n",
                        "    ├── \u001b[01;34m4\u001b[0m\n",
                        "    ├── \u001b[01;34m5\u001b[0m\n",
                        "    ├── \u001b[01;34m6\u001b[0m\n",
                        "    ├── \u001b[01;34m7\u001b[0m\n",
                        "    ├── \u001b[01;34m8\u001b[0m\n",
                        "    └── \u001b[01;34m9\u001b[0m\n",
                        "\n",
                        "22 directories\n"
                    ]
                }
            ],
            "source": [
                "!tree -d ~/dataset/mnist "
            ]
        },
        {
            "cell_type": "code",
            "execution_count": 4,
            "metadata": {},
            "outputs": [
                {
                    "name": "stdout",
                    "output_type": "stream",
                    "text": [
                        "/Users/xxx/dataset/mnist/test/0/\n",
                        "├── 10.png\n",
                        "├── 1001.png\n",
                        "├── 1009.png\n",
                        "├── 101.png\n",
                        "├── 1034.png\n",
                        "├── 1047.png\n",
                        "├── 1061.png\n",
                        "├── 1084.png\n",
                        "├── 1094.png\n"
                    ]
                }
            ],
            "source": [
                "!tree ~/dataset/mnist/test/0/ | head"
            ]
        },
        {
            "cell_type": "markdown",
            "metadata": {},
            "source": [
                "## Step 1: Create new project"
            ]
        },
        {
            "cell_type": "markdown",
            "metadata": {},
            "source": [
                "You can create new project via `base new` command.  \n",
                "Here, we will create a project named mnist."
            ]
        },
        {
            "cell_type": "code",
            "execution_count": 5,
            "metadata": {},
            "outputs": [
                {
                    "name": "stdout",
                    "output_type": "stream",
                    "text": [
                        "Your Project UID\n",
                        "----------------\n",
                        "abc0123456789\n",
                        "\n",
                        "save Project UID in local file (~/.base/projects)\n"
                    ]
                }
            ],
            "source": [
                "!base new mnist"
            ]
        },
        {
            "cell_type": "markdown",
            "metadata": {},
            "source": [
                "## Step 2: import data files"
            ]
        },
        {
            "cell_type": "markdown",
            "metadata": {},
            "source": [
                "Once you have created the project, you can add dataset into your project via `base import` command.   \n",
                "\n",
                "You have to specify your dataset directory and file extension via `--directory` and `--extension` option.  \n",
                "Also, you need to specify the parsing rule via `--parse` option; it automatically parses and links dataset information in the path name according to given parsing rule.   \n",
                "This time, the directory looks like `train/3/302.png`, so we choose the parsing rule `{dataType}/{label}/{id}.png`"
            ]
        },
        {
            "cell_type": "code",
            "execution_count": 6,
            "metadata": {},
            "outputs": [
                {
                    "name": "stdout",
                    "output_type": "stream",
                    "text": [
                        "Check datafiles...\n",
                        "found 70000 files with png extension.\n",
                        "Success!\n"
                    ]
                }
            ],
            "source": [
                "# This could take time depending on the the data amount\n",
                "# It could take around 3 mins on the MNIST dataset size (= 70000 files)\n",
                "!base import mnist --directory ~/dataset/mnist --extension png --parse \"{dataType}/{label}/{id}.png\""
            ]
        },
        {
            "cell_type": "markdown",
            "metadata": {},
            "source": [
                "## Step 3. Import external metadata files"
            ]
        },
        {
            "cell_type": "markdown",
            "metadata": {},
            "source": [
                "The MNIST dataset is known to have misslabeled data.  \n",
                "Here we have `wrongImagesInMNISTTestset.csv` by youkaichao, a csv file with index label of misslabeled data and its correct label.  \n",
                "https://github.com/youkaichao/mnist-wrong-test/blob/master/wrongImagesInMNISTTestset.csv  \n",
                "\n",
                "| index | originalLabel | correction |\n",
                "|-------|---------------|------------|\n",
                "| 8     | 5             | -1         |\n",
                "| 193   | 9             | -1         |\n",
                "| 340   | 5             | 3or5       |\n",
                "| ...   | ...           | ...        |\n",
                "\n",
                "Adansons Base can **automatically** import such metadata file and integrate with your existing project via `--external-file` option in `base import` command."
            ]
        },
        {
            "cell_type": "code",
            "execution_count": 7,
            "metadata": {},
            "outputs": [
                {
                    "name": "stdout",
                    "output_type": "stream",
                    "text": [
                        "  % Total    % Received % Xferd  Average Speed   Time    Time     Time  Current\n",
                        "                                 Dload  Upload   Total   Spent    Left  Speed\n",
                        "100   902  100   902    0     0   27 0      0 --:--:-- --:--:-- --:--:--     059      0 --:--:-- --:--:-- --:--:--  2881\n"
                    ]
                }
            ],
            "source": [
                "!curl -SL https://raw.githubusercontent.com/youkaichao/mnist-wrong-test/master/wrongImagesInMNISTTestset.csv > ~/Downloads/wrongImagesInMNISTTestset.csv"
            ]
        },
        {
            "cell_type": "code",
            "execution_count": 8,
            "metadata": {},
            "outputs": [
                {
                    "name": "stdout",
                    "output_type": "stream",
                    "text": [
                        "1 tables found!\n",
                        "now estimating the rule for table joining...\n",
                        "\n",
                        "1 table joining rule was estimated!\n",
                        "Below table joining rule will be applied...\n",
                        "\n",
                        "\n",
                        "Rule no.1\n",
                        "\n",
                        "\tkey 'index'\t->\tconnected to 'id' key on exist table\n",
                        "\tkey 'originalLabel'\t->\tconnected to 'label' key on exist table\n",
                        "\tkey 'correction'\t->\tnewly added\n",
                        "\tkey 'dataType'\t->\tconnected to 'dataType' key on exist table\n",
                        "\n",
                        "1 tables will be applied\n",
                        "Table 1 sample record:\n",
                        "\t{'index': 8, 'originalLabel': 5, 'correction': '-1', 'dataType': 'test'}\n",
                        "Success!\n"
                    ]
                }
            ],
            "source": [
                "!base import mnist --external-file --path ~/Downloads/wrongImagesInMNISTTestset.csv --additional dataType:test --auto-approve"
            ]
        },
        {
            "cell_type": "markdown",
            "metadata": {},
            "source": [
                "## Step 4. filter and export dataset with CLI  \n",
                "Now we are ready to filter and export dataset integrated with metadata.   \n",
                "Let’s pick up a part of data files, label is 1, 2, or 3 for training, from project mnist with `base search <project>` command.  \n",
                "You can use `--conditions <value-only-search>` option for magical search filter and `--query <key-value-pair-search>` option for advanced filter.  \n",
                "Be careful that you may get so large output on your console without -s, --summary option."
            ]
        },
        {
            "cell_type": "code",
            "execution_count": 9,
            "metadata": {},
            "outputs": [
                {
                    "name": "stdout",
                    "output_type": "stream",
                    "text": [
                        "18831 files\n",
                        "========\n",
                        "{'FilePath': '/Users/xxx/dataset/mnist/train/1/41744.png', 'id': '41744', 'index': 41744, 'label': '1', 'originalLabel': 1, 'dataType': 'train'}\n",
                        "{'FilePath': '/Users/xxx/dataset/mnist/train/1/46210.png', 'id': '46210', 'index': 46210, 'label': '1', 'originalLabel': 1, 'dataType': 'train'}\n",
                        "{'FilePath': '/Users/xxx/dataset/mnist/train/2/55704.png', 'id': '55704', 'index': 55704, 'label': '2', 'originalLabel': 2, 'dataType': 'train'}\n",
                        "{'FilePath': '/Users/xxx/dataset/mnist/train/3/4281.png', 'id': '4281', 'index': 4281, 'label': '3', 'originalLabel': 3, 'dataType': 'train'}\n",
                        "{'FilePath': '/Users/xxx/dataset/mnist/train/3/15651.png', 'id': '15651', 'index': 15651, 'label': '3', 'originalLabel': 3, 'dataType': 'train'}\n",
                        "{'FilePath': '/Users/xxx/dataset/mnist/train/1/4405.png', 'id': '4405', 'index': 4405, 'label': '1', 'originalLabel': 1, 'dataType': 'train'}\n",
                        "{'FilePath': '/Users/xxx/dataset/mnist/train/1/10268.png', 'id': '10268', 'index': 10268, 'label': '1', 'originalLabel': 1, 'dataType': 'train'}\n",
                        "{'FilePath': '/Users/xxx/dataset/mnist/train/1/46915.png', 'id': '46915', 'index': 46915, 'label': '1', 'originalLabel': 1, 'dataType': 'train'}\n"
                    ]
                }
            ],
            "source": [
                "!base search mnist --conditions \"train\" --query \"label in ['1','2','3']\" | head"
            ]
        },
        {
            "cell_type": "markdown",
            "metadata": {},
            "source": [
                "You can also speficy several queries by set multiple `--query` option.  \n",
                "Below example is picking files labeled 1,2 or 3 **and** their `correction` is not `-1` from test data."
            ]
        },
        {
            "cell_type": "code",
            "execution_count": 10,
            "metadata": {},
            "outputs": [
                {
                    "name": "stdout",
                    "output_type": "stream",
                    "text": [
                        "3169 files\n",
                        "========\n",
                        "{'FilePath': '/Users/xxx/dataset/mnist/test/3/1615.png', 'id': '1615', 'index': 1615, 'label': '3', 'originalLabel': 3, 'dataType': 'test'}\n",
                        "{'FilePath': '/Users/xxx/dataset/mnist/test/3/614.png', 'id': '614', 'index': 614, 'label': '3', 'originalLabel': 3, 'dataType': 'test'}\n",
                        "{'FilePath': '/Users/xxx/dataset/mnist/test/2/4339.png', 'id': '4339', 'index': 4339, 'label': '2', 'originalLabel': 2, 'dataType': 'test'}\n",
                        "{'FilePath': '/Users/xxx/dataset/mnist/test/2/4870.png', 'id': '4870', 'index': 4870, 'label': '2', 'originalLabel': 2, 'dataType': 'test'}\n",
                        "{'FilePath': '/Users/xxx/dataset/mnist/test/3/4494.png', 'id': '4494', 'index': 4494, 'label': '3', 'originalLabel': 3, 'dataType': 'test'}\n",
                        "{'FilePath': '/Users/xxx/dataset/mnist/test/2/744.png', 'id': '744', 'index': 744, 'label': '2', 'originalLabel': 2, 'dataType': 'test'}\n",
                        "{'FilePath': '/Users/xxx/dataset/mnist/test/3/677.png', 'id': '677', 'index': 677, 'label': '3', 'originalLabel': 3, 'dataType': 'test'}\n",
                        "{'FilePath': '/Users/xxx/dataset/mnist/test/1/9180.png', 'id': '9180', 'index': 9180, 'label': '1', 'originalLabel': 1, 'dataType': 'test'}\n"
                    ]
                }
            ],
            "source": [
                "!base search mnist --conditions \"test\" --query \"correction != -1\" --query \"label in ['1','2','3']\" | head"
            ]
        },
        {
            "cell_type": "markdown",
            "metadata": {},
            "source": [
                "## Step 5. filter and export dataset with Python SDK"
            ]
        },
        {
            "cell_type": "markdown",
            "metadata": {},
            "source": [
                "In python script, you can filter and export dataset easily and simply with Project class and Files class. (see [SDK docs](https://vast-bus-1c4.notion.site/Python-Reference-e4b62aee4eee47caa96b7f436d6658cd))"
            ]
        },
        {
            "cell_type": "code",
            "execution_count": 11,
            "metadata": {},
            "outputs": [
                {
                    "name": "stdout",
                    "output_type": "stream",
                    "text": [
                        "File path : /Users/xxx/dataset/mnist/train/1/41744.png\n",
                        "Label : 1\n"
                    ]
                }
            ],
            "source": [
                "from base import Project, Dataset\n",
                "import numpy as np\n",
                "from PIL import Image\n",
                "\n",
                "\n",
                "# export dataset as you want to use\n",
                "project = Project(\"mnist\")\n",
                "files = project.files(conditions=\"train\", query=[\"label in ['1','2','3']\"])\n",
                "\n",
                "print(f'File path : {files[0]}')\n",
                "# this returns path-like `File` object\n",
                "# -> '/home/xxxx/dataset/mnist/0/12909.png'\n",
                "print(f'Label : {files[0].label}')\n",
                "# this returns the value of attribute 'lable' ofn first `File` object\n",
                "# -> '0'"
            ]
        },
        {
            "cell_type": "markdown",
            "metadata": {},
            "source": [
                "Base SDK's `Dataset` class is compatible with PyTorch.   \n",
                "So you can instanciate Base's `Dataset` to filter your dataset, and directly use it with PyTorch's `DataLoader`."
            ]
        },
        {
            "cell_type": "code",
            "execution_count": 12,
            "metadata": {},
            "outputs": [],
            "source": [
                "import torch\n",
                "\n",
                "# function to load image from path\n",
                "# this is necessary, if you want to use image in your dataset\n",
                "# because base Dataset class doesn't convert path to image\n",
                "def preprocess_func(path):\n",
                "    image = Image.open(path)\n",
                "    image = image.resize((28, 28))\n",
                "    image = np.array(image)\n",
                "    return image\n",
                "\n",
                "dataset = Dataset(files, target_key=\"label\", transform=preprocess_func)\n",
                "loader = torch.utils.data.DataLoader(dataset, batch_size=32, shuffle=True)"
            ]
        },
        {
            "cell_type": "markdown",
            "metadata": {},
            "source": [
                "Finally, let’s try one of most characteristic use cases on Adansons Base.\n",
                "\n",
                "in the external file you imported in step.3, some mnist test data files are annotated as “-1” in correction column. this means that it is difficult to classify that files even for human.\n",
                "\n",
                "so, you should exclude that files from your dataset to evaluate your AI models more properly."
            ]
        },
        {
            "cell_type": "code",
            "execution_count": 13,
            "metadata": {},
            "outputs": [
                {
                    "name": "stdout",
                    "output_type": "stream",
                    "text": [
                        "Eval file length : 9963\n"
                    ]
                }
            ],
            "source": [
                "# you can exclude files which have \"-1\" on \"correction\" with below code\n",
                "eval_files = project.files(conditions=\"test\", query=[\"correction != -1\"])\n",
                "\n",
                "print(f'Eval file length : {len(eval_files)}')\n",
                "# this returns the number of files matched with requested conditions or query\n",
                "# -> 9963\n",
                "\n",
                "eval_dataset = Dataset(eval_files, target_key=\"label\", transform=preprocess_func)"
            ]
        },
        {
            "cell_type": "markdown",
            "metadata": {},
            "source": [
                "## Delete tutorial project"
            ]
        },
        {
            "cell_type": "markdown",
            "metadata": {},
            "source": [
                "You can archive your project via `base rm` command"
            ]
        },
        {
            "cell_type": "code",
            "execution_count": 14,
            "metadata": {},
            "outputs": [
                {
                    "name": "stdout",
                    "output_type": "stream",
                    "text": [
                        "mnist was Archived\n"
                    ]
                }
            ],
            "source": [
                "!base rm mnist"
            ]
        },
        {
            "cell_type": "markdown",
            "metadata": {},
            "source": [
                "You can delete your archived project via `base rm --confirm`"
            ]
        },
        {
            "cell_type": "code",
            "execution_count": 15,
            "metadata": {},
            "outputs": [
                {
                    "name": "stdout",
                    "output_type": "stream",
                    "text": [
                        "mnist was Deleted\n"
                    ]
                }
            ],
            "source": [
                "!base rm --confirm mnist"
            ]
        }
    ],
    "metadata": {
        "interpreter": {
            "hash": "8beb92ef80f62cbb771dd7d1d14fa70fec78f00d3d6402ab26cfd6b278324384"
        },
        "kernelspec": {
            "display_name": "Python 3 (ipykernel)",
            "language": "python",
            "name": "python3"
        },
        "language_info": {
            "codemirror_mode": {
                "name": "ipython",
                "version": 3
            },
            "file_extension": ".py",
            "mimetype": "text/x-python",
            "name": "python",
            "nbconvert_exporter": "python",
            "pygments_lexer": "ipython3",
            "version": "3.9.5"
        }
    },
    "nbformat": 4,
    "nbformat_minor": 4
}